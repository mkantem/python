{
  "nbformat": 4,
  "nbformat_minor": 0,
  "metadata": {
    "colab": {
      "provenance": [],
      "authorship_tag": "ABX9TyOo+MVBhQeVtqd4TDhR8B84",
      "include_colab_link": true
    },
    "kernelspec": {
      "name": "python3",
      "display_name": "Python 3"
    },
    "language_info": {
      "name": "python"
    }
  },
  "cells": [
    {
      "cell_type": "markdown",
      "metadata": {
        "id": "view-in-github",
        "colab_type": "text"
      },
      "source": [
        "<a href=\"https://colab.research.google.com/github/mkantem/python/blob/main/hello1.ipynb\" target=\"_parent\"><img src=\"https://colab.research.google.com/assets/colab-badge.svg\" alt=\"Open In Colab\"/></a>"
      ]
    },
    {
      "cell_type": "code",
      "execution_count": null,
      "metadata": {
        "colab": {
          "base_uri": "https://localhost:8080/"
        },
        "id": "oRpzKFVU3RkU",
        "outputId": "62a6a80f-1755-4aca-df9d-c995525ed095"
      },
      "outputs": [
        {
          "output_type": "stream",
          "name": "stdout",
          "text": [
            "test\n",
            "2\n"
          ]
        }
      ],
      "source": [
        "print(\"test\")\n",
        "print(1+1)"
      ]
    },
    {
      "cell_type": "code",
      "source": [
        "#@title Just a form field\n",
        "prenom = \"Mahamadou\" #@param {type:\"string\"}\n",
        "print(prenom)"
      ],
      "metadata": {
        "colab": {
          "base_uri": "https://localhost:8080/"
        },
        "id": "f4KPO2Q7RaN2",
        "outputId": "dd96e460-52d5-43d8-b7b3-fc3118f229da"
      },
      "execution_count": null,
      "outputs": [
        {
          "output_type": "stream",
          "name": "stdout",
          "text": [
            "Mahamadou\n"
          ]
        }
      ]
    },
    {
      "cell_type": "code",
      "source": [
        "from google.colab import drive\n",
        "drive.mount('/content/drive')"
      ],
      "metadata": {
        "id": "Yafp-Nf0S4A-"
      },
      "execution_count": null,
      "outputs": []
    }
  ]
}